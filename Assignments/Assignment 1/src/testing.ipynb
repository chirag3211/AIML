{
 "cells": [
  {
   "cell_type": "markdown",
   "metadata": {},
   "source": [
    "### Importing Libraries"
   ]
  },
  {
   "cell_type": "code",
   "execution_count": 1,
   "metadata": {},
   "outputs": [],
   "source": [
    "import pandas as pd\n",
    "import torch\n",
    "import matplotlib.pyplot as plt\n",
    "import matplotlib.image as img\n",
    "import torch.nn as nn\n",
    "import torch.optim as optim\n",
    "import torch.nn.functional as F\n",
    "import numpy as np\n",
    "import os"
   ]
  },
  {
   "cell_type": "markdown",
   "metadata": {},
   "source": [
    "### Data pre-processing"
   ]
  },
  {
   "cell_type": "code",
   "execution_count": 2,
   "metadata": {},
   "outputs": [],
   "source": [
    "df = pd.read_csv('C:/Users/chira/Projects/AIML Lab/Assignments/Assignment 1/Assignment-1/input/train.csv')\n",
    "df1 = df.sample(frac = 1)\n",
    "df1.reset_index(inplace = True, drop = True)"
   ]
  },
  {
   "cell_type": "code",
   "execution_count": 3,
   "metadata": {},
   "outputs": [],
   "source": [
    "def train_val_test_split(df, val_size, test_size):\n",
    "    val_size = int(len(df) * val_size)\n",
    "    test_size = int(len(df) * test_size)\n",
    "    train_data, val_data, test_data = df[test_size+val_size:], df[val_size:test_size+val_size], df[:test_size]\n",
    "    train_data.reset_index(inplace = True, drop = True)\n",
    "    val_data.reset_index(inplace = True, drop = True)\n",
    "    test_data.reset_index(inplace = True, drop = True)\n",
    "    return train_data, val_data, test_data\n",
    "\n",
    "def normalize(tensor):\n",
    "    mean = tensor.mean()\n",
    "    std = tensor.std()\n",
    "    return (tensor - mean) / std\n",
    "\n",
    "def getData(data, val_size, test_size):\n",
    "    train, val, test = train_val_test_split(data, val_size, test_size)\n",
    "    train_x = normalize(torch.from_numpy(train.iloc[:,1:].values.reshape(-1,1,28,28)).float())\n",
    "    train_y = torch.from_numpy(train.iloc[:,0].values.reshape(-1,1)).squeeze(1).long()\n",
    "    val_x = normalize(torch.from_numpy(val.iloc[:,1:].values.reshape(-1,1,28,28)).float())\n",
    "    val_y = torch.from_numpy(val.iloc[:,0].values.reshape(-1,1)).squeeze(1).long()\n",
    "    test_x = normalize(torch.from_numpy(test.iloc[:,1:].values.reshape(-1,1,28,28)).float())\n",
    "    test_y = torch.from_numpy(test.iloc[:,0].values.reshape(-1,1)).squeeze(1).long()\n",
    "    return train_x, train_y, val_x, val_y, test_x, test_y"
   ]
  },
  {
   "cell_type": "markdown",
   "metadata": {},
   "source": [
    "### Model Architecture"
   ]
  },
  {
   "cell_type": "code",
   "execution_count": 4,
   "metadata": {},
   "outputs": [],
   "source": [
    "# switch to False to use CPU\n",
    "torch.cuda.is_available()\n",
    "use_cuda = False\n",
    "use_cuda = use_cuda and torch.cuda.is_available()\n",
    "device = torch.device(\"cuda\" if use_cuda else \"cpu\");\n",
    "torch.manual_seed(1);"
   ]
  },
  {
   "cell_type": "code",
   "execution_count": 5,
   "metadata": {},
   "outputs": [],
   "source": [
    "class Net(nn.Module):\n",
    "    def __init__(self):\n",
    "        super(Net, self).__init__()\n",
    "        self.conv1 = nn.Conv2d(1, 10, kernel_size=5)\n",
    "        self.conv2 = nn.Conv2d(10, 20, kernel_size=5)\n",
    "        self.conv2_drop = nn.Dropout2d()\n",
    "        self.fc1 = nn.Linear(320, 160)\n",
    "        self.fc2 = nn.Linear(160, 80)\n",
    "        self.fc3 = nn.Linear(80, 40)\n",
    "        self.fc4 = nn.Linear(40, 10)\n",
    "\n",
    "    def forward(self, x):\n",
    "        x = F.relu(F.max_pool2d(self.conv1(x), 2))\n",
    "        x = F.relu(F.max_pool2d(self.conv2_drop(self.conv2(x)), 2))\n",
    "        x = x.view(-1, 320)\n",
    "        x = F.relu(self.fc1(x))\n",
    "        x = F.dropout(x, training=self.training)\n",
    "        x = F.relu(self.fc2(x))\n",
    "        x = F.dropout(x, training=self.training)\n",
    "        x = F.relu(self.fc3(x))\n",
    "        x = F.dropout(x, training=self.training)\n",
    "        x = self.fc4(x)\n",
    "        return x"
   ]
  },
  {
   "cell_type": "markdown",
   "metadata": {},
   "source": [
    "### Early Stopping"
   ]
  },
  {
   "cell_type": "code",
   "execution_count": 6,
   "metadata": {},
   "outputs": [],
   "source": [
    "class EarlyStopping:\n",
    "    def __init__(self, patience=7, verbose=False, delta=0):\n",
    "        self.patience = patience\n",
    "        self.verbose = verbose\n",
    "        self.counter = 0\n",
    "        self.best_score = None\n",
    "        self.early_stop = False\n",
    "        self.val_loss_min = np.Inf\n",
    "        self.delta = delta\n",
    "\n",
    "    def __call__(self, val_loss, model):\n",
    "        score = -val_loss\n",
    "        if self.best_score is None:\n",
    "            self.best_score = score\n",
    "            self.save_checkpoint(val_loss, model)\n",
    "        elif score < self.best_score + self.delta:\n",
    "            self.counter += 1\n",
    "            print(f'EarlyStopping counter: {self.counter} out of {self.patience}')\n",
    "            if self.counter >= self.patience:\n",
    "                self.early_stop = True\n",
    "        else:\n",
    "            self.best_score = score\n",
    "            self.save_checkpoint(val_loss, model)\n",
    "            self.counter = 0\n",
    "\n",
    "    def save_checkpoint(self, val_loss, model):\n",
    "        if self.verbose:\n",
    "            print(f'Validation loss decreased ({self.val_loss_min:.6f} --> {val_loss:.6f}).  Saving model ...')\n",
    "        torch.save(model.state_dict(), 'C:/Users/chira/Projects/AIML Lab/Assignments/Assignment 1/Assignment-1/model/model.pt')\n",
    "        self.val_loss_min = val_loss"
   ]
  },
  {
   "cell_type": "markdown",
   "metadata": {},
   "source": [
    "### Training"
   ]
  },
  {
   "cell_type": "code",
   "execution_count": 7,
   "metadata": {},
   "outputs": [],
   "source": [
    "def train(model, device, x_train, t_train, x_val, t_val, optimizer, epoch):\n",
    "    model.train()\n",
    "    \n",
    "    for start in range(0, len(t_train)-1, 256):\n",
    "        end = start + 256\n",
    "        x, y = x_train[start:end], t_train[start:end]\n",
    "        x, y = x.to(device), y.to(device)\n",
    "        \n",
    "        optimizer.zero_grad()\n",
    "\n",
    "        output = model(x)\n",
    "        loss = F.cross_entropy(output, y)\n",
    "        loss.backward()\n",
    "        optimizer.step()\n",
    "\n",
    "    # Training accuracy calculation\n",
    "    _, train_accuracy = test(model, device, x_train, t_train, batch_size=256, mode=\"train\")\n",
    "\n",
    "    # Validation loss and accuracy calculation\n",
    "    val_loss, val_accuracy = test(model, device, x_val, t_val, batch_size=256, mode=\"val\")\n",
    "\n",
    "    print('Epoch: {} \\tTraining Loss: {:.6f} \\tTraining Accuracy: {:.2f}% \\tValidation Loss: {:.4f} \\tValidation Accuracy: {:.2f}%'.format(epoch, loss.item(), train_accuracy, val_loss, val_accuracy))\n",
    "    return loss.item(), train_accuracy, val_loss, val_accuracy\n",
    "\n",
    "def test(model, device, x_data, t_data, batch_size, mode=\"test\"):\n",
    "    model.eval()\n",
    "    data_size = len(t_data)\n",
    "    total_loss = 0\n",
    "    correct = 0\n",
    "\n",
    "    for start in range(0, data_size-1, batch_size):\n",
    "        end = start + batch_size\n",
    "        with torch.no_grad():\n",
    "            x, y = x_data[start:end], t_data[start:end]\n",
    "            x, y = x.to(device), y.to(device)\n",
    "            output = model(x)\n",
    "            total_loss += F.cross_entropy(output, y).item() # sum up batch loss\n",
    "            pred = output.max(1, keepdim=True)[1] # get the index of the max logit\n",
    "            correct += pred.eq(y.view_as(pred)).sum().item()\n",
    "\n",
    "    total_loss /= len(t_data)\n",
    "    accuracy = 100. * correct / len(t_data)\n",
    "    if mode == 'test':\n",
    "      print('{} set: Average loss: {:.4f}, Accuracy: {}/{} ({:.2f}%)'.format(\n",
    "          mode.capitalize(), total_loss, correct, len(t_data), accuracy))\n",
    "\n",
    "    return total_loss, accuracy"
   ]
  },
  {
   "cell_type": "code",
   "execution_count": 10,
   "metadata": {},
   "outputs": [
    {
     "name": "stdout",
     "output_type": "stream",
     "text": [
      "Epoch: 1 \tTraining Loss: 0.422490 \tTraining Accuracy: 94.32% \tValidation Loss: 0.0010 \tValidation Accuracy: 94.07%\n",
      "Validation loss decreased (inf --> 0.000954).  Saving model ...\n",
      "Epoch: 2 \tTraining Loss: 0.170231 \tTraining Accuracy: 96.74% \tValidation Loss: 0.0005 \tValidation Accuracy: 96.29%\n",
      "Validation loss decreased (0.000954 --> 0.000539).  Saving model ...\n",
      "Epoch: 3 \tTraining Loss: 0.236740 \tTraining Accuracy: 97.09% \tValidation Loss: 0.0005 \tValidation Accuracy: 96.62%\n",
      "Validation loss decreased (0.000539 --> 0.000482).  Saving model ...\n",
      "Epoch: 4 \tTraining Loss: 0.087504 \tTraining Accuracy: 97.75% \tValidation Loss: 0.0004 \tValidation Accuracy: 97.60%\n",
      "Validation loss decreased (0.000482 --> 0.000391).  Saving model ...\n",
      "Epoch: 5 \tTraining Loss: 0.099783 \tTraining Accuracy: 98.11% \tValidation Loss: 0.0004 \tValidation Accuracy: 97.83%\n",
      "Validation loss decreased (0.000391 --> 0.000350).  Saving model ...\n",
      "Epoch: 6 \tTraining Loss: 0.106465 \tTraining Accuracy: 98.10% \tValidation Loss: 0.0003 \tValidation Accuracy: 97.90%\n",
      "Validation loss decreased (0.000350 --> 0.000336).  Saving model ...\n",
      "Epoch: 7 \tTraining Loss: 0.257386 \tTraining Accuracy: 98.46% \tValidation Loss: 0.0003 \tValidation Accuracy: 98.31%\n",
      "Validation loss decreased (0.000336 --> 0.000308).  Saving model ...\n",
      "Epoch: 8 \tTraining Loss: 0.194024 \tTraining Accuracy: 98.42% \tValidation Loss: 0.0003 \tValidation Accuracy: 98.17%\n",
      "EarlyStopping counter: 1 out of 4\n",
      "Epoch: 9 \tTraining Loss: 0.188957 \tTraining Accuracy: 98.47% \tValidation Loss: 0.0003 \tValidation Accuracy: 98.10%\n",
      "Validation loss decreased (0.000308 --> 0.000290).  Saving model ...\n",
      "Epoch: 10 \tTraining Loss: 0.039463 \tTraining Accuracy: 98.46% \tValidation Loss: 0.0003 \tValidation Accuracy: 98.26%\n",
      "EarlyStopping counter: 1 out of 4\n",
      "Epoch: 11 \tTraining Loss: 0.087596 \tTraining Accuracy: 98.69% \tValidation Loss: 0.0003 \tValidation Accuracy: 98.43%\n",
      "Validation loss decreased (0.000290 --> 0.000271).  Saving model ...\n",
      "Epoch: 12 \tTraining Loss: 0.077079 \tTraining Accuracy: 98.85% \tValidation Loss: 0.0002 \tValidation Accuracy: 98.50%\n",
      "Validation loss decreased (0.000271 --> 0.000249).  Saving model ...\n",
      "Epoch: 13 \tTraining Loss: 0.050410 \tTraining Accuracy: 98.76% \tValidation Loss: 0.0003 \tValidation Accuracy: 98.43%\n",
      "EarlyStopping counter: 1 out of 4\n",
      "Epoch: 14 \tTraining Loss: 0.090857 \tTraining Accuracy: 98.86% \tValidation Loss: 0.0002 \tValidation Accuracy: 98.52%\n",
      "Validation loss decreased (0.000249 --> 0.000248).  Saving model ...\n",
      "Epoch: 15 \tTraining Loss: 0.054890 \tTraining Accuracy: 98.88% \tValidation Loss: 0.0003 \tValidation Accuracy: 98.45%\n",
      "EarlyStopping counter: 1 out of 4\n",
      "Epoch: 16 \tTraining Loss: 0.092567 \tTraining Accuracy: 98.88% \tValidation Loss: 0.0002 \tValidation Accuracy: 98.52%\n",
      "Validation loss decreased (0.000248 --> 0.000228).  Saving model ...\n",
      "Epoch: 17 \tTraining Loss: 0.076137 \tTraining Accuracy: 98.97% \tValidation Loss: 0.0002 \tValidation Accuracy: 98.67%\n",
      "Validation loss decreased (0.000228 --> 0.000212).  Saving model ...\n",
      "Epoch: 18 \tTraining Loss: 0.134181 \tTraining Accuracy: 99.01% \tValidation Loss: 0.0002 \tValidation Accuracy: 98.74%\n",
      "EarlyStopping counter: 1 out of 4\n",
      "Epoch: 19 \tTraining Loss: 0.177718 \tTraining Accuracy: 99.03% \tValidation Loss: 0.0002 \tValidation Accuracy: 98.48%\n",
      "EarlyStopping counter: 2 out of 4\n",
      "Epoch: 20 \tTraining Loss: 0.071366 \tTraining Accuracy: 99.05% \tValidation Loss: 0.0002 \tValidation Accuracy: 98.69%\n",
      "Validation loss decreased (0.000212 --> 0.000210).  Saving model ...\n",
      "Epoch: 21 \tTraining Loss: 0.175835 \tTraining Accuracy: 99.17% \tValidation Loss: 0.0002 \tValidation Accuracy: 98.79%\n",
      "Validation loss decreased (0.000210 --> 0.000196).  Saving model ...\n",
      "Epoch: 22 \tTraining Loss: 0.080152 \tTraining Accuracy: 99.18% \tValidation Loss: 0.0002 \tValidation Accuracy: 98.76%\n",
      "EarlyStopping counter: 1 out of 4\n",
      "Epoch: 23 \tTraining Loss: 0.031500 \tTraining Accuracy: 99.14% \tValidation Loss: 0.0002 \tValidation Accuracy: 98.62%\n",
      "EarlyStopping counter: 2 out of 4\n",
      "Epoch: 24 \tTraining Loss: 0.057901 \tTraining Accuracy: 99.12% \tValidation Loss: 0.0002 \tValidation Accuracy: 98.64%\n",
      "EarlyStopping counter: 3 out of 4\n",
      "Epoch: 25 \tTraining Loss: 0.099395 \tTraining Accuracy: 99.16% \tValidation Loss: 0.0002 \tValidation Accuracy: 98.90%\n",
      "EarlyStopping counter: 4 out of 4\n",
      "Early stopping\n",
      "Test set: Average loss: 0.0002, Accuracy: 4141/4200 (98.60%)\n"
     ]
    },
    {
     "data": {
      "text/plain": [
       "(0.0002415250184103137, 98.5952380952381)"
      ]
     },
     "execution_count": 10,
     "metadata": {},
     "output_type": "execute_result"
    }
   ],
   "source": [
    "model = Net().to(device)\n",
    "optimizer = optim.Adam(model.parameters(), lr=0.002)\n",
    "early_stopping = EarlyStopping(patience=4, verbose=True)\n",
    "train_x, train_y, val_x, val_y, test_x, test_y = getData(df1, val_size = 0.1, test_size = 0.1)\n",
    "epochs = 40\n",
    "for epoch in range(1, epochs + 1):\n",
    "  _, _, val_loss, _ = train(model, device, train_x, train_y, val_x, val_y, optimizer, epoch)\n",
    "  early_stopping(val_loss, model)\n",
    "  if early_stopping.early_stop:\n",
    "    print(\"Early stopping\")\n",
    "    break\n",
    "test(model, device, test_x, test_y, batch_size=256)"
   ]
  },
  {
   "cell_type": "markdown",
   "metadata": {},
   "source": [
    "### Handling of test_images"
   ]
  },
  {
   "cell_type": "code",
   "execution_count": 9,
   "metadata": {},
   "outputs": [
    {
     "name": "stderr",
     "output_type": "stream",
     "text": [
      "C:\\Users\\chira\\AppData\\Local\\Temp\\ipykernel_30512\\2509342156.py:2: UserWarning: The given NumPy array is not writable, and PyTorch does not support non-writable tensors. This means writing to this tensor will result in undefined behavior. You may want to copy the array to protect its data or make it writable before converting it to a tensor. This type of warning will be suppressed for the rest of this program. (Triggered internally at C:\\actions-runner\\_work\\pytorch\\pytorch\\builder\\windows\\pytorch\\torch\\csrc\\utils\\tensor_numpy.cpp:212.)\n",
      "  plt.imshow(torch.from_numpy(img.imread('C:/Users/chira/Projects/AIML Lab/Assignments/Assignment 1/Assignment-1/test_images/img_{}.jpg'.format(i+1))))\n"
     ]
    },
    {
     "data": {
      "image/png": "[encoded data removed]",
      "text/plain": [
       "<Figure size 640x480 with 1 Axes>"
      ]
     },
     "metadata": {},
     "output_type": "display_data"
    }
   ],
   "source": [
    "for i in range(10):\n",
    "    plt.imshow(torch.from_numpy(img.imread('C:/Users/chira/Projects/AIML Lab/Assignments/Assignment 1/Assignment-1/test_images/img_{}.jpg'.format(i+1))))"
   ]
  },
  {
   "cell_type": "code",
   "execution_count": null,
   "metadata": {},
   "outputs": [],
   "source": []
  }
 ],
 "metadata": {
  "kernelspec": {
   "display_name": "AIML",
   "language": "python",
   "name": "python3"
  },
  "language_info": {
   "codemirror_mode": {
    "name": "ipython",
    "version": 3
   },
   "file_extension": ".py",
   "mimetype": "text/x-python",
   "name": "python",
   "nbconvert_exporter": "python",
   "pygments_lexer": "ipython3",
   "version": "3.9.13"
  }
 },
 "nbformat": 4,
 "nbformat_minor": 2
}
